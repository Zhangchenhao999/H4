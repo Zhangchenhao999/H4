{
 "cells": [
  {
   "cell_type": "markdown",
   "id": "ae6f7713",
   "metadata": {},
   "source": [
    "# Homework 4 Part 1"
   ]
  },
  {
   "cell_type": "markdown",
   "id": "46e70137",
   "metadata": {},
   "source": [
    "This is an individual assignment."
   ]
  },
  {
   "cell_type": "markdown",
   "id": "a96a000b",
   "metadata": {},
   "source": [
    "---"
   ]
  },
  {
   "cell_type": "markdown",
   "id": "e25e7579",
   "metadata": {},
   "source": [
    "Write your answers using markdown cells or embed handwritten answers with ```IPython.display.Image```."
   ]
  },
  {
   "cell_type": "markdown",
   "id": "2f26ae95-a161-472e-84d8-22bd5ed97156",
   "metadata": {},
   "source": [
    "<div class=\"alert alert-info\">\n",
    "    <b>Reading Assignment</b>\n",
    "    \n",
    "To best prepare for this assignment, read [chapter 6 from the textbook \"Introduction to Machine Learning\" by Ethem Alpaydin](https://ebookcentral.proquest.com/lib/ufl/reader.action?docID=3339851), available in Course Reserves.\n",
    "\n",
    "</div>"
   ]
  },
  {
   "cell_type": "markdown",
   "id": "a0e3a152",
   "metadata": {},
   "source": [
    "---"
   ]
  },
  {
   "cell_type": "markdown",
   "id": "a45d77d7",
   "metadata": {},
   "source": [
    "# Exercise 1 (10 points)"
   ]
  },
  {
   "cell_type": "markdown",
   "id": "0701e979",
   "metadata": {},
   "source": [
    "**Propose an objective function that incorporates class information into PCA such that instances of the same class are mapped to nearby locations in the new space. You do not have to solve for a solution, but must explain all terms and their function.**"
   ]
  },
  {
   "cell_type": "markdown",
   "id": "65294eba",
   "metadata": {},
   "source": [
    "\n",
    "\n",
    "$$\\arg\\max_W J(W) = \\text{tr}(W^T S_T W) - \\lambda \\text{tr}(W^T S_W W)$$\n",
    "\n",
    "where:\n",
    "- $W$ is the projection matrix (columns are projection vectors)\n",
    "- $\\text{tr}(·)$ is the trace operator (sum of diagonal elements)\n",
    "- $S_T$ is the total scatter matrix = $\\sum_{i=1}^n (x_i - \\mu)(x_i - \\mu)^T$\n",
    "- $S_W$ is the within-class scatter matrix = $\\sum_{c=1}^C \\sum_{i \\in c} (x_i - \\mu_c)(x_i - \\mu_c)^T$\n",
    "- $\\lambda$ is the penalty parameter\n",
    "- $\\mu$ is global mean\n",
    "- $\\mu_c$ is mean of class $c$\n",
    "\n",
    "\n",
    "The main term $\\text{tr}(W^T S_T W)$ maximizes the overall variance in the projected space, preserves PCA's fundamental goal of maintaining data spread, and prevents the collapse of projections to a single point.\n",
    "\n",
    "The penalty term $\\text{tr}(W^T S_W W)$ penalizes large within-class scatter, encourages points from the same class to project closer together in the reduced space, and acts as a regularizer for class-based clustering.\n",
    "\n",
    "The penalty parameter $\\lambda$ controls the strength of the penalty term. A larger $\\lambda$ value imposes a stronger penalty on within-class scatter, forcing same-class points closer together, while a smaller $\\lambda$ makes the objective function behave more like standard PCA.\n",
    "\n",
    "This objective function effectively extends PCA by adding a class-aware penalty term, creating a supervised dimensionality reduction method."
   ]
  },
  {
   "cell_type": "markdown",
   "id": "a6652a45",
   "metadata": {},
   "source": [
    "---"
   ]
  },
  {
   "cell_type": "markdown",
   "id": "28e6690d",
   "metadata": {},
   "source": [
    "# Exercise 2 (10 points)"
   ]
  },
  {
   "cell_type": "markdown",
   "id": "b6c3e3cb",
   "metadata": {},
   "source": [
    "**A neural network has a “skip-ahead” connection where the layers $i \\rightarrow j \\rightarrow k \\rightarrow l$ are augmented with a direct connection from $i \\rightarrow l$. If the layer weights (fully connected) are denoted by $w_{ij}^{(1)}, w_{jk}^{(2)}, w_{kl}^{(3)}$. Write down the function being constructed assuming a one to one correspondence between the neurons in layers $i$ and $l$. Using the chain rule of differentiation explain how the skip-ahead connection works in neural networks. Assume sigmoid activation functions and draw a picture to further clarify your explanation. [Note: Approximate solutions are required.]**"
   ]
  },
  {
   "cell_type": "markdown",
   "id": "66050d7b",
   "metadata": {},
   "source": [
    "<img src=\"figures/skip-ahead-connection.png\" alt=\"Skip-Ahead Connection\" width=\"500\">"
   ]
  },
  {
   "cell_type": "markdown",
   "id": "c003926e",
   "metadata": {},
   "source": [
    "Denote:\n",
    "- $\\sigma(x)$ as the sigmoid activation function: $\\sigma(x) = 1/(1 + e^{(-x)})$\n",
    "- $x_i$ as the input from layer $i$\n",
    "- The skip connection weight as $w_{il}^{(\\text{skip})}$\n",
    "\n",
    "The function being constructed can be written as:\n",
    "\n",
    "For the regular path $(i → j → k → l)$:\n",
    "- $h_j = \\sigma(w_{ij}^{(1)}x_i)$\n",
    "- $h_k = \\sigma(w_{jk}^{(2)}h_j)$\n",
    "- $h_l^{regular} = \\sigma(w_{kl}^{(3)}h_k)$\n",
    "\n",
    "For the skip connection $(i → l)$: $h_l^{skip} = \\sigma(w_{il}^{skip}x_i)$\n",
    "\n",
    "The final output at layer $l$ combines both paths: $h_l = h_l^{regular} + h_l^{skip}$\n",
    "\n",
    "Therefore the regular path gradient is:\n",
    "$$\\frac{\\partial E}{\\partial w_{ij}^{(1)}} = \\frac{\\partial E}{\\partial h_l} \\cdot \\frac{\\partial h_l}{\\partial h_k} \\cdot \\frac{\\partial h_k}{\\partial h_j} \\cdot \\frac{\\partial h_j}{\\partial w_{ij}^{(1)}}$$\n",
    "\n",
    "The skip connection gradient is:\n",
    "$$\\frac{\\partial E}{\\partial w_{il}^{skip}} = \\frac{\\partial E}{\\partial h_l} \\cdot \\frac{\\partial h_l}{\\partial w_{il}^{skip}}$$\n",
    "\n",
    "This helps us understand that the skip connection provides a more direct linear path for information flow, while the regular path allows for more complex non-linear transformations."
   ]
  },
  {
   "cell_type": "markdown",
   "id": "556cbca2-d122-43de-8849-50a2f42e7f76",
   "metadata": {},
   "source": [
    "---"
   ]
  },
  {
   "cell_type": "markdown",
   "id": "0eda81f6-d155-49a1-8b2c-3d7013b4a415",
   "metadata": {},
   "source": [
    "# Exercise 3 (10 points)"
   ]
  },
  {
   "cell_type": "markdown",
   "id": "bd649fdc-d55f-49c0-8ad2-a45bf23996e5",
   "metadata": {},
   "source": [
    "**3. Consider the sum of squares error function written as\n",
    "\\begin{align*} \n",
    "E\\left(w, w_{0}\\right)=\\frac{1}{2} \\sum_{n}\\left(t_{n}-w^{T} x_{n}-w_{0}\\right)^{2}\n",
    "\\end{align*}\n",
    "where the set of target values $\\left\\{t_{n}\\right\\}$ are assigned as follows: $t_{n}=\\frac{N}{N_{1}}$ for class 1 with $N_{1}$ being the cardinality of class 1 patterns and $t_{n}=-\\frac{N}{N_{2}}$ for class 2 with $N_{2}$ being the cardinality of class 2 patterns. (The total number of training set patterns is $N$.) Show that for this choice of $\\left\\{t_{n}\\right\\}$, the least-squares and Fisher Linear Discriminant (FLD) solutions concide. [Hint: read Bishop textbook Chapter 4 - Discriminant functions]**"
   ]
  },
  {
   "cell_type": "markdown",
   "id": "523e8751",
   "metadata": {},
   "source": [
    "Proof that Least-Squares and FLD Solutions Coincide\n",
    "\n",
    "\n",
    "\n",
    "   $$E(w,w_0) = \\frac{1}{2}\\sum_n(t_n - w^Tx_n - w_0)^2$$\n",
    "   $$\\frac{\\partial E}{\\partial w} = -\\sum_n(t_n - w^Tx_n - w_0)x_n = 0$$\n",
    "   $$\\frac{\\partial E}{\\partial w_0} = -\\sum_n(t_n - w^Tx_n - w_0) = 0$$\n",
    "\n",
    "For class 1 (C₁):\n",
    "   $$t_n = \\frac{N}{N_1}, \\quad n \\in C_1$$\n",
    "\n",
    "For class 2 (C₂):\n",
    "   $$t_n = -\\frac{N}{N_2}, \\quad n \\in C_2$$\n",
    "\n",
    "From $\\frac{\\partial E}{\\partial w_0} = 0$:\n",
    "$$\\sum_{n \\in C_1}\\frac{N}{N_1} + \\sum_{n \\in C_2}(-\\frac{N}{N_2}) = \\sum_n(w^Tx_n + w_0)$$\n",
    "\n",
    "From $\\frac{\\partial E}{\\partial w} = 0$:\n",
    "$$\\sum_{n \\in C_1}\\frac{N}{N_1}x_n + \\sum_{n \\in C_2}(-\\frac{N}{N_2})x_n = \\sum_nx_n(w^Tx_n + w_0)$$\n",
    "\n",
    "$$N = N_1 + N_2$$\n",
    "$$\\frac{N}{N_1}N_1 - \\frac{N}{N_2}N_2 = w^T(\\sum_n x_n) + Nw_0$$\n",
    "$$N - N = w^T(\\sum_n x_n) + Nw_0$$\n",
    "$$0 = w^T(\\sum_n x_n) + Nw_0 \\quad (1)$$\n",
    "\n",
    "For the second equation:\n",
    "$$\\frac{N}{N_1}\\sum_{n \\in C_1}x_n - \\frac{N}{N_2}\\sum_{n \\in C_2}x_n = w^T(\\sum_n x_nx_n^T)w + w_0\\sum_n x_n$$\n",
    "\n",
    "Using $(1)$ to substitute $w_0$:\n",
    "$$\\frac{N}{N_1}\\sum_{n \\in C_1}x_n - \\frac{N}{N_2}\\sum_{n \\in C_2}x_n = w^T(\\sum_n x_nx_n^T)w - \\frac{w^T(\\sum_n x_n)(\\sum_n x_n)^T}{N}w$$\n",
    "\n",
    "$$m_1 = \\frac{1}{N_1}\\sum_{n \\in C_1}x_n \\quad \\text{and} \\quad m_2 = \\frac{1}{N_2}\\sum_{n \\in C_2}x_n$$\n",
    "$$N(m_1 - m_2) = w^T[(\\sum_n x_nx_n^T) - \\frac{(\\sum_n x_n)(\\sum_n x_n)^T}{N}]w$$\n",
    "\n",
    "$$w \\propto (m_1 - m_2)$$\n",
    "\n",
    "Where:\n",
    "- $m_1$ is mean of class 1\n",
    "- $m_2$ is mean of class 2\n",
    "\n",
    "This shows that $w$ is proportional to the difference between class means, which is exactly the same direction as the Fisher Linear Discriminant solution. Therefore, both methods yield equivalent solutions.\n"
   ]
  },
  {
   "cell_type": "markdown",
   "id": "5586135d-e59a-4050-8710-3e878208b891",
   "metadata": {},
   "source": [
    "# Exercise 4 (5 points)"
   ]
  },
  {
   "cell_type": "markdown",
   "id": "a0a924b5",
   "metadata": {},
   "source": [
    "**Suppose you would like to apply Principal Component Analysis (PCA) to reduce the dimensionality of each of these datasets from 2-D to 1-D where the two clusters remain separated in the projection space.**"
   ]
  },
  {
   "cell_type": "code",
   "execution_count": 1,
   "id": "a5f10a2e",
   "metadata": {},
   "outputs": [
    {
     "data": {
      "image/png": "[encoded data removed]",
      "text/plain": [
       "<IPython.core.display.Image object>"
      ]
     },
     "execution_count": 1,
     "metadata": {
      "image/png": {
       "width": 800
      }
     },
     "output_type": "execute_result"
    }
   ],
   "source": [
    "from IPython.display import Image\n",
    "Image('figures/2-D-datasets.png',width=800)"
   ]
  },
  {
   "cell_type": "markdown",
   "id": "6e5c609a",
   "metadata": {},
   "source": [
    "**For each dataset (A, B and C), address each of the following two questions:**\n",
    "\n",
    "1. (2.5 points) **Will PCA be effective at keeping the two clusters separated in the 1-D projection? Why or why not? If yes, state what characteristics of the dataset allow PCA to be effective. If no, state what characteristics of the dataset cause PCA to fail.**\n",
    "\n",
    "2. (2.5 points) **Can you think of another dimensionality reduction technique that would be successful at reducing the dimensionality for this dataset while maintaining (or increase) class separability? State the other method and describe why it would be successful.**"
   ]
  },
  {
   "cell_type": "markdown",
   "id": "281de683",
   "metadata": {},
   "source": [
    "| Dataset | PCA Effective? | Reasoning |\n",
    "|---------|---------------|-----------|\n",
    "| A (Vertical Clusters) | Yes | - Clusters well-separated vertically<br>- Direction of maximum variance aligns with class separation | \n",
    "| B (Diagonal Clusters) | Yes | - Clusters separated along diagonal<br>- Maximum variance aligns with diagonal separation | \n",
    "| C (Concentric Circles) | No | - Non-linear relationship between clusters<br>- Linear projection will mix classes | "
   ]
  },
  {
   "cell_type": "markdown",
   "id": "02d02a1c",
   "metadata": {},
   "source": [
    "**Recommended Method: Linear Discriminant Analysis (LDA)**\n",
    "\n",
    "Why LDA would be successful:\n",
    "1. LDA is supervised, unlike PCA, so it explicitly considers class labels\n",
    "2. It maximizes between-class separation while minimizing within-class scatter\n",
    "3. For a 3D to 2D reduction, LDA would find the optimal projection directions that maximize class discrimination\n",
    "4. While PCA focuses on variance ($\\lambda_i$), LDA would focus on class separability\n",
    "\n",
    "**Advantages over PCA:**\n",
    "- PCA might discard discriminative information if it's not aligned with high variance\n",
    "- LDA's projection would be optimized specifically for classification\n",
    "- More likely to maintain or improve class separation in the reduced space"
   ]
  },
  {
   "cell_type": "markdown",
   "id": "6da9ec89-e4a8-439a-a16c-9844270b377b",
   "metadata": {},
   "source": [
    "# Exercise 5 (5 points)"
   ]
  },
  {
   "cell_type": "markdown",
   "id": "d33f01d4",
   "metadata": {},
   "source": [
    "**Consider the data matrix $\\mathbf{X}$ of size $3\\times N$, where $N$ is the number of samples. The covariance matrix $\\mathbf{K}$, of size $3\\times 3$ has 3 eigenvectors $v_1=[-0.6, 0.8, 0]^T$, $v_2=[0,0,1]^T$ and $v_3=[0.8, 0.6, 0]^T$ with eigenvalues $\\lambda_1=2.5$, $\\lambda_2=0.5$ and $\\lambda_3=3$, respectively. Answer the following questions:**\n",
    "\n",
    "1. (2 points) **What linear transformation would you use to uncorrelate the data $\\mathbf{X}$? Provide a numerical solution and justify your answer.**\n",
    "\n",
    "2. (1 point) **Use Principal Component Analysis (PCA) to project the 3-dimensional space to a 2-dimensional space. Define the linear transformation (using a numerical answer).**\n",
    "\n",
    "3. (1 point) **What is the amount of explained variance of this 2-D projection? Show your work.**\n",
    "\n",
    "4. (1 point) **Let $\\mathbf{Y}$ be the data (linear) transformation obtained by principal component transform of $\\mathbf{X}$ onto a 2-dimensional space. What is resulting covariance matrix of transformed data $\\mathbf{Y}$? Use a numerical answer and justify your answer.**"
   ]
  },
  {
   "cell_type": "markdown",
   "id": "94767055",
   "metadata": {},
   "source": [
    "1. Linear transformation to uncorrelate X:\n",
    "$$W = \\begin{bmatrix} \n",
    "0.8 & 0 & -0.6 \\\\\n",
    "0.6 & 0 & 0.8 \\\\\n",
    "0 & 1 & 0\n",
    "\\end{bmatrix}$$\n",
    "\n",
    "2. PCA projection matrix to 2D:\n",
    "$$W_{2D} = \\begin{bmatrix} \n",
    "0.8 & 0 \\\\\n",
    "0.6 & 0 \\\\\n",
    "0 & 1\n",
    "\\end{bmatrix}$$\n",
    "\n",
    "3. Explained variance:\n",
    "   - Total variance = $\\lambda_3 + \\lambda_1 + \\lambda_2 = 3.0 + 2.5 + 0.5 = 6.0$\n",
    "   - Variance kept = $\\lambda_3 + \\lambda_1 = 3.0 + 2.5 = 5.5$\n",
    "   - Explained variance ratio = $\\frac{5.5}{6.0} = 0.917 = 91.7\\%$\n",
    "\n",
    "4. Covariance matrix of transformed data Y:\n",
    "$$Y = \\begin{bmatrix}\n",
    "3.0 & 0 \\\\\n",
    "0 & 2.5\n",
    "\\end{bmatrix}$$"
   ]
  },
  {
   "cell_type": "markdown",
   "id": "75886e95-2999-43c8-8172-26834d5cffa9",
   "metadata": {},
   "source": [
    "---"
   ]
  },
  {
   "cell_type": "markdown",
   "id": "0c726ef5-1aad-4651-9160-7c2b26c689b0",
   "metadata": {},
   "source": [
    "# Exercise 6 (5 points)"
   ]
  },
  {
   "cell_type": "markdown",
   "id": "bc3b5d7c-be46-4450-980c-8c985629f6b1",
   "metadata": {},
   "source": [
    "**Consider fitting an SVM with $C > 0$ to a dataset that is linearly separable. Is the resulting decision boundary guaranteed to separate the classes?**"
   ]
  },
  {
   "cell_type": "markdown",
   "id": "638f04a0",
   "metadata": {},
   "source": [
    "No, soft-margin SVM $(C > 0)$ is NOT guaranteed to linearly separate the classes, even when the data is linearly separable.\n"
   ]
  },
  {
   "cell_type": "markdown",
   "id": "46bb1a5f",
   "metadata": {},
   "source": [
    "---"
   ]
  },
  {
   "cell_type": "markdown",
   "id": "05482a2d",
   "metadata": {},
   "source": [
    "# On-Time (5 points)"
   ]
  },
  {
   "cell_type": "markdown",
   "id": "eeb96beb",
   "metadata": {},
   "source": [
    "Submit your assignment before the deadline."
   ]
  },
  {
   "cell_type": "markdown",
   "id": "fca49709",
   "metadata": {},
   "source": [
    "___\n",
    "\n",
    "# Submit Your Solution\n",
    "\n",
    "Confirm that you've successfully completed the assignment.\n",
    "\n",
    "Along with the Notebook, include a PDF of the notebook with your solutions.\n",
    "\n",
    "```add``` and ```commit``` the final version of your work, and ```push``` your code to your GitHub repository.\n",
    "\n",
    "Submit the URL of your GitHub Repository as your assignment submission on Canvas.\n",
    "\n",
    "___"
   ]
  }
 ],
 "metadata": {
  "kernelspec": {
   "display_name": "pytorch",
   "language": "python",
   "name": "python3"
  },
  "language_info": {
   "codemirror_mode": {
    "name": "ipython",
    "version": 3
   },
   "file_extension": ".py",
   "mimetype": "text/x-python",
   "name": "python",
   "nbconvert_exporter": "python",
   "pygments_lexer": "ipython3",
   "version": "3.13.0"
  },
  "latex_envs": {
   "LaTeX_envs_menu_present": true,
   "autoclose": true,
   "autocomplete": true,
   "bibliofile": "biblio.bib",
   "cite_by": "apalike",
   "current_citInitial": 1,
   "eqLabelWithNumbers": true,
   "eqNumInitial": 1,
   "hotkeys": {
    "equation": "Ctrl-E",
    "itemize": "Ctrl-I"
   },
   "labels_anchors": false,
   "latex_user_defs": false,
   "report_style_numbering": false,
   "user_envs_cfg": false
  },
  "varInspector": {
   "cols": {
    "lenName": 16,
    "lenType": 16,
    "lenVar": 40
   },
   "kernels_config": {
    "python": {
     "delete_cmd_postfix": "",
     "delete_cmd_prefix": "del ",
     "library": "var_list.py",
     "varRefreshCmd": "print(var_dic_list())"
    },
    "r": {
     "delete_cmd_postfix": ") ",
     "delete_cmd_prefix": "rm(",
     "library": "var_list.r",
     "varRefreshCmd": "cat(var_dic_list()) "
    }
   },
   "types_to_exclude": [
    "module",
    "function",
    "builtin_function_or_method",
    "instance",
    "_Feature"
   ],
   "window_display": false
  },
  "widgets": {
   "application/vnd.jupyter.widget-state+json": {
    "state": {},
    "version_major": 2,
    "version_minor": 0
   }
  }
 },
 "nbformat": 4,
 "nbformat_minor": 5
}
